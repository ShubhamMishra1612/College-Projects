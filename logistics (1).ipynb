{
 "cells": [
  {
   "cell_type": "code",
   "execution_count": 1,
   "id": "0e045bb2",
   "metadata": {},
   "outputs": [],
   "source": [
    "import pandas as pd\n",
    "import numpy as np\n",
    "from sklearn.model_selection import train_test_split\n",
    "from sklearn.preprocessing import StandardScaler  \n",
    "import seaborn as sns\n",
    "from sklearn.metrics import classification_report\n",
    "from sklearn.metrics import r2_score\n",
    "import matplotlib.pyplot as plt"
   ]
  },
  {
   "cell_type": "code",
   "execution_count": 2,
   "id": "f364d42c",
   "metadata": {},
   "outputs": [],
   "source": [
    "syn_data=pd.read_csv('C:/Users/SHUBHAM/Desktop/synthetic_data.csv')  #reading the file from a folder\n",
    "syn_frame=pd.DataFrame(syn_data)                                     #creating a dataframe"
   ]
  },
  {
   "cell_type": "code",
   "execution_count": 3,
   "id": "1bc5f75e",
   "metadata": {
    "scrolled": true
   },
   "outputs": [
    {
     "data": {
      "text/html": [
       "<div>\n",
       "<style scoped>\n",
       "    .dataframe tbody tr th:only-of-type {\n",
       "        vertical-align: middle;\n",
       "    }\n",
       "\n",
       "    .dataframe tbody tr th {\n",
       "        vertical-align: top;\n",
       "    }\n",
       "\n",
       "    .dataframe thead th {\n",
       "        text-align: right;\n",
       "    }\n",
       "</style>\n",
       "<table border=\"1\" class=\"dataframe\">\n",
       "  <thead>\n",
       "    <tr style=\"text-align: right;\">\n",
       "      <th></th>\n",
       "      <th>Pregnancies</th>\n",
       "      <th>Glucose</th>\n",
       "      <th>BloodPressure</th>\n",
       "      <th>SkinThickness</th>\n",
       "      <th>Insulin</th>\n",
       "      <th>BMI</th>\n",
       "      <th>DiabetesPedigreeFunction</th>\n",
       "      <th>Age</th>\n",
       "      <th>Outcome</th>\n",
       "    </tr>\n",
       "  </thead>\n",
       "  <tbody>\n",
       "    <tr>\n",
       "      <th>0</th>\n",
       "      <td>6</td>\n",
       "      <td>139</td>\n",
       "      <td>75</td>\n",
       "      <td>35</td>\n",
       "      <td>159</td>\n",
       "      <td>35.45</td>\n",
       "      <td>0.781</td>\n",
       "      <td>37</td>\n",
       "      <td>1</td>\n",
       "    </tr>\n",
       "    <tr>\n",
       "      <th>1</th>\n",
       "      <td>4</td>\n",
       "      <td>79</td>\n",
       "      <td>42</td>\n",
       "      <td>43</td>\n",
       "      <td>177</td>\n",
       "      <td>28.08</td>\n",
       "      <td>0.335</td>\n",
       "      <td>29</td>\n",
       "      <td>1</td>\n",
       "    </tr>\n",
       "    <tr>\n",
       "      <th>2</th>\n",
       "      <td>1</td>\n",
       "      <td>161</td>\n",
       "      <td>79</td>\n",
       "      <td>29</td>\n",
       "      <td>202</td>\n",
       "      <td>38.43</td>\n",
       "      <td>0.618</td>\n",
       "      <td>35</td>\n",
       "      <td>1</td>\n",
       "    </tr>\n",
       "    <tr>\n",
       "      <th>3</th>\n",
       "      <td>5</td>\n",
       "      <td>147</td>\n",
       "      <td>62</td>\n",
       "      <td>22</td>\n",
       "      <td>122</td>\n",
       "      <td>26.10</td>\n",
       "      <td>0.148</td>\n",
       "      <td>37</td>\n",
       "      <td>0</td>\n",
       "    </tr>\n",
       "    <tr>\n",
       "      <th>4</th>\n",
       "      <td>1</td>\n",
       "      <td>136</td>\n",
       "      <td>83</td>\n",
       "      <td>45</td>\n",
       "      <td>169</td>\n",
       "      <td>40.99</td>\n",
       "      <td>0.078</td>\n",
       "      <td>21</td>\n",
       "      <td>0</td>\n",
       "    </tr>\n",
       "    <tr>\n",
       "      <th>...</th>\n",
       "      <td>...</td>\n",
       "      <td>...</td>\n",
       "      <td>...</td>\n",
       "      <td>...</td>\n",
       "      <td>...</td>\n",
       "      <td>...</td>\n",
       "      <td>...</td>\n",
       "      <td>...</td>\n",
       "      <td>...</td>\n",
       "    </tr>\n",
       "    <tr>\n",
       "      <th>495</th>\n",
       "      <td>5</td>\n",
       "      <td>151</td>\n",
       "      <td>90</td>\n",
       "      <td>17</td>\n",
       "      <td>77</td>\n",
       "      <td>42.53</td>\n",
       "      <td>0.078</td>\n",
       "      <td>35</td>\n",
       "      <td>1</td>\n",
       "    </tr>\n",
       "    <tr>\n",
       "      <th>496</th>\n",
       "      <td>1</td>\n",
       "      <td>165</td>\n",
       "      <td>93</td>\n",
       "      <td>28</td>\n",
       "      <td>0</td>\n",
       "      <td>34.49</td>\n",
       "      <td>0.245</td>\n",
       "      <td>24</td>\n",
       "      <td>1</td>\n",
       "    </tr>\n",
       "    <tr>\n",
       "      <th>497</th>\n",
       "      <td>3</td>\n",
       "      <td>127</td>\n",
       "      <td>64</td>\n",
       "      <td>19</td>\n",
       "      <td>85</td>\n",
       "      <td>21.27</td>\n",
       "      <td>0.742</td>\n",
       "      <td>46</td>\n",
       "      <td>0</td>\n",
       "    </tr>\n",
       "    <tr>\n",
       "      <th>498</th>\n",
       "      <td>3</td>\n",
       "      <td>147</td>\n",
       "      <td>45</td>\n",
       "      <td>8</td>\n",
       "      <td>118</td>\n",
       "      <td>25.88</td>\n",
       "      <td>0.135</td>\n",
       "      <td>46</td>\n",
       "      <td>1</td>\n",
       "    </tr>\n",
       "    <tr>\n",
       "      <th>499</th>\n",
       "      <td>4</td>\n",
       "      <td>170</td>\n",
       "      <td>88</td>\n",
       "      <td>49</td>\n",
       "      <td>304</td>\n",
       "      <td>44.19</td>\n",
       "      <td>1.093</td>\n",
       "      <td>47</td>\n",
       "      <td>1</td>\n",
       "    </tr>\n",
       "  </tbody>\n",
       "</table>\n",
       "<p>500 rows × 9 columns</p>\n",
       "</div>"
      ],
      "text/plain": [
       "     Pregnancies  Glucose  BloodPressure  SkinThickness  Insulin    BMI  \\\n",
       "0              6      139             75             35      159  35.45   \n",
       "1              4       79             42             43      177  28.08   \n",
       "2              1      161             79             29      202  38.43   \n",
       "3              5      147             62             22      122  26.10   \n",
       "4              1      136             83             45      169  40.99   \n",
       "..           ...      ...            ...            ...      ...    ...   \n",
       "495            5      151             90             17       77  42.53   \n",
       "496            1      165             93             28        0  34.49   \n",
       "497            3      127             64             19       85  21.27   \n",
       "498            3      147             45              8      118  25.88   \n",
       "499            4      170             88             49      304  44.19   \n",
       "\n",
       "     DiabetesPedigreeFunction  Age  Outcome  \n",
       "0                       0.781   37        1  \n",
       "1                       0.335   29        1  \n",
       "2                       0.618   35        1  \n",
       "3                       0.148   37        0  \n",
       "4                       0.078   21        0  \n",
       "..                        ...  ...      ...  \n",
       "495                     0.078   35        1  \n",
       "496                     0.245   24        1  \n",
       "497                     0.742   46        0  \n",
       "498                     0.135   46        1  \n",
       "499                     1.093   47        1  \n",
       "\n",
       "[500 rows x 9 columns]"
      ]
     },
     "execution_count": 3,
     "metadata": {},
     "output_type": "execute_result"
    }
   ],
   "source": [
    "syn_frame"
   ]
  },
  {
   "cell_type": "code",
   "execution_count": 4,
   "id": "9eb89fee",
   "metadata": {},
   "outputs": [],
   "source": [
    "X = syn_frame.drop(\"Outcome\",axis=1)    # extracting features and target values.\n",
    "Y= syn_frame[\"Outcome\"]\n",
    "\n",
    "#splitting data into training(80%) and test(20%) datasets\n",
    "X_Train,X_test,Y_Train,Y_test = train_test_split(X,Y,test_size=0.2,random_state=100)\n",
    "\n",
    "# generalizing the data \n",
    "scaler = StandardScaler()\n",
    "X_Train = scaler.fit_transform(X_Train)\n",
    "X_test = scaler.transform(X_test)"
   ]
  },
  {
   "cell_type": "code",
   "execution_count": 5,
   "id": "424d487e",
   "metadata": {},
   "outputs": [],
   "source": [
    "def sigmoid(z):    # sigmoid function\n",
    "    return 1/(1+np.exp(-z))"
   ]
  },
  {
   "cell_type": "code",
   "execution_count": 6,
   "id": "0a82cc20",
   "metadata": {},
   "outputs": [],
   "source": [
    "lr = 0.0098 #learning rate\n",
    "iteration =1000 #NO. OF ITERATIONS\n",
    "b=0;  #bias or intercept\n",
    "\n",
    "weights = np.zeros(X.shape[1]) #weights \n",
    "cost = np.zeros(iteration)\n",
    "\n",
    "for i in range(iteration):                             #processing a = w*x +Wo and calculating sigmoid(a) for training datasets\n",
    "    y_pred = sigmoid(np.dot(X_Train,weights) + b)\n",
    "    \n",
    "    w_gradient = 2*np.dot(X_Train.T,y_pred-Y_Train)/len(Y_Train)\n",
    "    b_gradient = 2*np.mean(y_pred - Y_Train)\n",
    "    weights -= lr*w_gradient\n",
    "    b -= lr*b_gradient\n",
    "    \n",
    "    cost[i] = -1/len(Y_Train) * np.sum(Y_Train*np.log(y_pred) + (1-Y_Train)*np.log(1-y_pred))  #defining cost function per iteration"
   ]
  },
  {
   "cell_type": "code",
   "execution_count": 7,
   "id": "19362da4",
   "metadata": {},
   "outputs": [
    {
     "name": "stdout",
     "output_type": "stream",
     "text": [
      "weights :  [ 0.2708468   0.6185754  -0.18260963 -0.13272046  0.14808801  0.51580885\n",
      "  0.1409033   0.10605671]\n"
     ]
    }
   ],
   "source": [
    "print(\"weights : \", weights)"
   ]
  },
  {
   "cell_type": "code",
   "execution_count": 8,
   "id": "90a52580",
   "metadata": {},
   "outputs": [
    {
     "name": "stdout",
     "output_type": "stream",
     "text": [
      "Bias or intercept :  -0.6692199345070466\n"
     ]
    }
   ],
   "source": [
    "print(\"Bias or intercept : \",b) "
   ]
  },
  {
   "cell_type": "code",
   "execution_count": 10,
   "id": "0d06a71c",
   "metadata": {},
   "outputs": [],
   "source": [
    "y_test_pred = sigmoid(np.dot(X_test,weights) + b)  #calculating posterior probabilities\n",
    "\n",
    "y_pred = []                             #classifying based on probabilities calculated\n",
    "for j in y_test_pred:\n",
    "    if(j > 1-j):\n",
    "        y_pred.append(1)\n",
    "    else:\n",
    "        y_pred.append(0)"
   ]
  },
  {
   "cell_type": "code",
   "execution_count": 11,
   "id": "81b6e705",
   "metadata": {
    "scrolled": true
   },
   "outputs": [
    {
     "name": "stdout",
     "output_type": "stream",
     "text": [
      "                  precision    recall  f1-score   support\n",
      "\n",
      "without diabetes       0.72      0.83      0.77        63\n",
      "   with diabetes       0.61      0.46      0.52        37\n",
      "\n",
      "        accuracy                           0.69       100\n",
      "       macro avg       0.66      0.64      0.65       100\n",
      "    weighted avg       0.68      0.69      0.68       100\n",
      "\n"
     ]
    }
   ],
   "source": [
    "class_names = ['without diabetes', 'with diabetes']   #calculating classification accuracy\n",
    "print(classification_report(Y_test, y_pred, target_names=class_names))"
   ]
  },
  {
   "cell_type": "code",
   "execution_count": null,
   "id": "fb1f49df",
   "metadata": {},
   "outputs": [],
   "source": []
  }
 ],
 "metadata": {
  "kernelspec": {
   "display_name": "Python 3 (ipykernel)",
   "language": "python",
   "name": "python3"
  },
  "language_info": {
   "codemirror_mode": {
    "name": "ipython",
    "version": 3
   },
   "file_extension": ".py",
   "mimetype": "text/x-python",
   "name": "python",
   "nbconvert_exporter": "python",
   "pygments_lexer": "ipython3",
   "version": "3.10.9"
  }
 },
 "nbformat": 4,
 "nbformat_minor": 5
}
