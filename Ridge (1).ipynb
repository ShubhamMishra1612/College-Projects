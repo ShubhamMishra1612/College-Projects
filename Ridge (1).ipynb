{
 "cells": [
  {
   "cell_type": "code",
   "execution_count": 22,
   "id": "4a16781a",
   "metadata": {},
   "outputs": [],
   "source": [
    "import pandas as pd\n",
    "import numpy as np\n",
    "from sklearn.model_selection import train_test_split\n",
    "from sklearn.preprocessing import StandardScaler  \n",
    "import seaborn as sns\n",
    "from sklearn.linear_model import Ridge\n",
    "from sklearn.preprocessing import PolynomialFeatures\n",
    "from sklearn.metrics import r2_score,mean_squared_error\n",
    "import matplotlib.pyplot as plt"
   ]
  },
  {
   "cell_type": "code",
   "execution_count": 23,
   "id": "dab4fe66",
   "metadata": {},
   "outputs": [],
   "source": [
    "syn_data=pd.read_csv('C:/Users/SHUBHAM/Desktop/synthetic_data.csv')\n",
    "\n",
    "syn_frame=pd.DataFrame(syn_data)\n"
   ]
  },
  {
   "cell_type": "code",
   "execution_count": 24,
   "id": "1d50980f",
   "metadata": {},
   "outputs": [],
   "source": [
    "predictors = [\"Pregnancies\",\"Glucose\",\"BloodPressure\",\"SkinThickness\",\"Insulin\",\"BMI\",\"DiabetesPedigreeFunction\",\"Age\"]\n",
    "\n",
    "\n",
    "Y=syn_data['Outcome']              # defining features and target values\n",
    "X=syn_data.drop('Outcome',axis=1)\n",
    "\n",
    "\n",
    "# splitting datasets into training and test datasets...\n",
    "X_Train,X_test,Y_Train,Y_test = train_test_split(X,Y,test_size=0.2,random_state=100)\n",
    "\n",
    "#Scaling model\n",
    "scaler = StandardScaler()\n",
    "X_Train = scaler.fit_transform(X_Train)\n",
    "X_test = scaler.transform(X_test)"
   ]
  },
  {
   "cell_type": "code",
   "execution_count": 25,
   "id": "910acc53",
   "metadata": {},
   "outputs": [],
   "source": [
    "'''defining a function to generate a polynomial matrix'''\n",
    "def poly_matrix(X,deg):\n",
    "    sample, feature  = X.shape\n",
    "    X_poly = np.ones((sample,1))\n",
    "    for j in range(1,deg+1):\n",
    "        for i in range(feature):\n",
    "            X_poly = np.hstack((X_poly,(X[:,i]**j)[:,np.newaxis])) #inserting elements (column vise) depending on power (1,x,x^2...)\n",
    "    return X_poly"
   ]
  },
  {
   "cell_type": "code",
   "execution_count": 26,
   "id": "6b5a5f63",
   "metadata": {
    "scrolled": true
   },
   "outputs": [],
   "source": [
    "#defining a function to calculate weight and cost in a ridge regularization method for polynomial\n",
    "def Ridge(x,y,lr,lamda,itr):\n",
    "    \n",
    "    sample,feature = x.shape      #initializing weight,cost,no. of features and samples'''\n",
    "    weights = np.zeros(feature)\n",
    "    cost = np.zeros(itr)\n",
    "    for i in range(itr):    #applying gradient descent to calculate weights\n",
    "        y_pred = np.dot(x,weights)\n",
    "        grad = (2/sample)*(np.dot(y_pred-y,x) + (lamda*weights))\n",
    "        weights -= lr * grad\n",
    "        \n",
    "        cost[i] = np.mean((y_pred - y)**2) + (lamda/sample)*np.dot(weights.T,weights)\n",
    "    \n",
    "    return (weights,cost)"
   ]
  },
  {
   "cell_type": "code",
   "execution_count": 27,
   "id": "69f61896",
   "metadata": {
    "scrolled": false
   },
   "outputs": [],
   "source": [
    "l_rate = 0.001;     #learning rate\n",
    "iteration = 1000;   # no. of iterations\n",
    "reg_rate = 26;      # regularization rate"
   ]
  },
  {
   "cell_type": "code",
   "execution_count": 28,
   "id": "93a40598",
   "metadata": {
    "scrolled": true
   },
   "outputs": [],
   "source": [
    "degree = 2   #Initializing degree\n",
    "cost = []\n",
    "X_poly_train = poly_matrix(X_Train,degree)  #creating a polynomial matrix of features\n",
    "X_poly_test = poly_matrix(X_test,degree)  \n",
    "\n",
    "#Calculating Weight and cost\n",
    "W,cost = Ridge(X_poly_train,Y_Train,l_rate,reg_rate,iteration)\n",
    "\n"
   ]
  },
  {
   "cell_type": "code",
   "execution_count": 29,
   "id": "1c15976f",
   "metadata": {
    "scrolled": false
   },
   "outputs": [
    {
     "name": "stdout",
     "output_type": "stream",
     "text": [
      "The r2_score obtained is : 20.587 %\n",
      "mean squared error :  0.18511280143870884\n"
     ]
    }
   ],
   "source": [
    "#predicting test sample\n",
    "y_pred = np.dot(X_poly_test,W)\n",
    "\n",
    "accuracy = r2_score(Y_test,y_pred)        #calculating r2_score\n",
    "print('The r2_score obtained is :',round(accuracy * 100 ,3),'%')\n",
    "\n",
    "mse = mean_squared_error(Y_test,y_pred)\n",
    "\n",
    "print(\"mean squared error : \",mse)"
   ]
  },
  {
   "cell_type": "code",
   "execution_count": 30,
   "id": "e4d81757",
   "metadata": {},
   "outputs": [
    {
     "data": {
      "text/plain": [
       "Text(0, 0.5, 'Cost Function')"
      ]
     },
     "execution_count": 30,
     "metadata": {},
     "output_type": "execute_result"
    },
    {
     "data": {
      "image/png": "[encoded data removed]",
      "text/plain": [
       "<Figure size 640x480 with 1 Axes>"
      ]
     },
     "metadata": {},
     "output_type": "display_data"
    }
   ],
   "source": [
    "plt.plot(cost)\n",
    "plt.xlabel(\"No. of Iteration\")\n",
    "plt.ylabel(\"Cost Function\")"
   ]
  },
  {
   "cell_type": "code",
   "execution_count": 31,
   "id": "f14f95a5",
   "metadata": {},
   "outputs": [
    {
     "data": {
      "text/plain": [
       "array([[ 1.00000000e+00,  3.52704732e-01,  1.72407014e+00, ...,\n",
       "         1.15245782e+00,  1.08873734e+00,  6.72031807e-01],\n",
       "       [ 1.00000000e+00,  1.38249957e+00, -1.99449624e+00, ...,\n",
       "         1.35306700e-02,  1.44805651e-01,  2.92695895e+00],\n",
       "       [ 1.00000000e+00,  3.52704732e-01, -3.01220478e-01, ...,\n",
       "         1.59490755e-01,  3.47326917e-01,  7.68502381e-04],\n",
       "       ...,\n",
       "       [ 1.00000000e+00, -1.02035505e+00, -1.03165316e+00, ...,\n",
       "         6.34917668e-01,  3.88690270e-03,  1.03589416e+00],\n",
       "       [ 1.00000000e+00,  6.95969677e-01, -1.35213050e-01, ...,\n",
       "         9.44011923e-01,  4.31116881e-03,  2.73273173e-01],\n",
       "       [ 1.00000000e+00,  3.52704732e-01,  3.07943779e-02, ...,\n",
       "         8.00887200e-01,  3.96582257e-07,  7.68502381e-04]])"
      ]
     },
     "execution_count": 31,
     "metadata": {},
     "output_type": "execute_result"
    }
   ],
   "source": [
    "X_poly_test"
   ]
  }
 ],
 "metadata": {
  "kernelspec": {
   "display_name": "Python 3 (ipykernel)",
   "language": "python",
   "name": "python3"
  },
  "language_info": {
   "codemirror_mode": {
    "name": "ipython",
    "version": 3
   },
   "file_extension": ".py",
   "mimetype": "text/x-python",
   "name": "python",
   "nbconvert_exporter": "python",
   "pygments_lexer": "ipython3",
   "version": "3.10.9"
  }
 },
 "nbformat": 4,
 "nbformat_minor": 5
}
