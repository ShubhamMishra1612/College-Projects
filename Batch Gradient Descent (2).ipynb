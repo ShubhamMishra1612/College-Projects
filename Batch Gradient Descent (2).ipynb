{
 "cells": [
  {
   "cell_type": "code",
   "execution_count": 39,
   "id": "140896f7",
   "metadata": {},
   "outputs": [],
   "source": [
    "import pandas as pd\n",
    "import numpy as np\n",
    "from sklearn.model_selection import train_test_split\n",
    "from sklearn.preprocessing import StandardScaler  \n",
    "from sklearn.preprocessing import MinMaxScaler \n",
    "from sklearn.linear_model import LinearRegression\n",
    "from sklearn.metrics import mean_absolute_error,mean_squared_error\n",
    "import matplotlib.pyplot as plt"
   ]
  },
  {
   "cell_type": "code",
   "execution_count": 2,
   "id": "4fe3815e",
   "metadata": {
    "scrolled": true
   },
   "outputs": [],
   "source": [
    "syn_data = pd.read_csv('C:/Users/SHUBHAM/Desktop/data.csv')\n",
    "\n",
    "syn_frame=pd.DataFrame(syn_data)   # reading from file and creating a dataframe\n",
    "\n"
   ]
  },
  {
   "cell_type": "code",
   "execution_count": 4,
   "id": "04cc4c24",
   "metadata": {
    "scrolled": true
   },
   "outputs": [
    {
     "data": {
      "text/html": [
       "<div>\n",
       "<style scoped>\n",
       "    .dataframe tbody tr th:only-of-type {\n",
       "        vertical-align: middle;\n",
       "    }\n",
       "\n",
       "    .dataframe tbody tr th {\n",
       "        vertical-align: top;\n",
       "    }\n",
       "\n",
       "    .dataframe thead th {\n",
       "        text-align: right;\n",
       "    }\n",
       "</style>\n",
       "<table border=\"1\" class=\"dataframe\">\n",
       "  <thead>\n",
       "    <tr style=\"text-align: right;\">\n",
       "      <th></th>\n",
       "      <th>YEAR</th>\n",
       "      <th>Rainfall in June</th>\n",
       "    </tr>\n",
       "  </thead>\n",
       "  <tbody>\n",
       "    <tr>\n",
       "      <th>0</th>\n",
       "      <td>1901</td>\n",
       "      <td>22.7</td>\n",
       "    </tr>\n",
       "    <tr>\n",
       "      <th>1</th>\n",
       "      <td>1902</td>\n",
       "      <td>59.9</td>\n",
       "    </tr>\n",
       "    <tr>\n",
       "      <th>2</th>\n",
       "      <td>1903</td>\n",
       "      <td>26.2</td>\n",
       "    </tr>\n",
       "    <tr>\n",
       "      <th>3</th>\n",
       "      <td>1904</td>\n",
       "      <td>53.4</td>\n",
       "    </tr>\n",
       "    <tr>\n",
       "      <th>4</th>\n",
       "      <td>1905</td>\n",
       "      <td>23.1</td>\n",
       "    </tr>\n",
       "  </tbody>\n",
       "</table>\n",
       "</div>"
      ],
      "text/plain": [
       "   YEAR  Rainfall in June\n",
       "0  1901              22.7\n",
       "1  1902              59.9\n",
       "2  1903              26.2\n",
       "3  1904              53.4\n",
       "4  1905              23.1"
      ]
     },
     "execution_count": 4,
     "metadata": {},
     "output_type": "execute_result"
    }
   ],
   "source": [
    "syn_frame.head()"
   ]
  },
  {
   "cell_type": "code",
   "execution_count": 5,
   "id": "435aa67f",
   "metadata": {
    "scrolled": true
   },
   "outputs": [
    {
     "data": {
      "text/html": [
       "<div>\n",
       "<style scoped>\n",
       "    .dataframe tbody tr th:only-of-type {\n",
       "        vertical-align: middle;\n",
       "    }\n",
       "\n",
       "    .dataframe tbody tr th {\n",
       "        vertical-align: top;\n",
       "    }\n",
       "\n",
       "    .dataframe thead th {\n",
       "        text-align: right;\n",
       "    }\n",
       "</style>\n",
       "<table border=\"1\" class=\"dataframe\">\n",
       "  <thead>\n",
       "    <tr style=\"text-align: right;\">\n",
       "      <th></th>\n",
       "      <th>YEAR</th>\n",
       "      <th>Rainfall in June</th>\n",
       "    </tr>\n",
       "  </thead>\n",
       "  <tbody>\n",
       "    <tr>\n",
       "      <th>count</th>\n",
       "      <td>117.000000</td>\n",
       "      <td>113.000000</td>\n",
       "    </tr>\n",
       "    <tr>\n",
       "      <th>mean</th>\n",
       "      <td>1958.606838</td>\n",
       "      <td>72.957522</td>\n",
       "    </tr>\n",
       "    <tr>\n",
       "      <th>std</th>\n",
       "      <td>33.389023</td>\n",
       "      <td>35.968989</td>\n",
       "    </tr>\n",
       "    <tr>\n",
       "      <th>min</th>\n",
       "      <td>1901.000000</td>\n",
       "      <td>17.700000</td>\n",
       "    </tr>\n",
       "    <tr>\n",
       "      <th>25%</th>\n",
       "      <td>1930.000000</td>\n",
       "      <td>48.500000</td>\n",
       "    </tr>\n",
       "    <tr>\n",
       "      <th>50%</th>\n",
       "      <td>1959.000000</td>\n",
       "      <td>69.900000</td>\n",
       "    </tr>\n",
       "    <tr>\n",
       "      <th>75%</th>\n",
       "      <td>1987.000000</td>\n",
       "      <td>90.600000</td>\n",
       "    </tr>\n",
       "    <tr>\n",
       "      <th>max</th>\n",
       "      <td>2015.000000</td>\n",
       "      <td>161.000000</td>\n",
       "    </tr>\n",
       "  </tbody>\n",
       "</table>\n",
       "</div>"
      ],
      "text/plain": [
       "              YEAR  Rainfall in June\n",
       "count   117.000000        113.000000\n",
       "mean   1958.606838         72.957522\n",
       "std      33.389023         35.968989\n",
       "min    1901.000000         17.700000\n",
       "25%    1930.000000         48.500000\n",
       "50%    1959.000000         69.900000\n",
       "75%    1987.000000         90.600000\n",
       "max    2015.000000        161.000000"
      ]
     },
     "execution_count": 5,
     "metadata": {},
     "output_type": "execute_result"
    }
   ],
   "source": [
    "syn_frame.describe()"
   ]
  },
  {
   "cell_type": "code",
   "execution_count": 6,
   "id": "5b63fdc1",
   "metadata": {
    "scrolled": true
   },
   "outputs": [
    {
     "data": {
      "text/plain": [
       "YEAR                0\n",
       "Rainfall in June    4\n",
       "dtype: int64"
      ]
     },
     "execution_count": 6,
     "metadata": {},
     "output_type": "execute_result"
    }
   ],
   "source": [
    "syn_frame.isnull().sum()"
   ]
  },
  {
   "cell_type": "code",
   "execution_count": 8,
   "id": "e2d72c9b",
   "metadata": {},
   "outputs": [],
   "source": [
    "syn_frame['Rainfall in June'] = syn_frame['Rainfall in June'].fillna(syn_frame['Rainfall in June'].median())"
   ]
  },
  {
   "cell_type": "code",
   "execution_count": 9,
   "id": "0e24a972",
   "metadata": {},
   "outputs": [
    {
     "data": {
      "text/plain": [
       "YEAR                0\n",
       "Rainfall in June    0\n",
       "dtype: int64"
      ]
     },
     "execution_count": 9,
     "metadata": {},
     "output_type": "execute_result"
    }
   ],
   "source": [
    "syn_frame.isnull().sum()"
   ]
  },
  {
   "cell_type": "code",
   "execution_count": 11,
   "id": "0421a3fe",
   "metadata": {},
   "outputs": [
    {
     "data": {
      "text/plain": [
       "2"
      ]
     },
     "execution_count": 11,
     "metadata": {},
     "output_type": "execute_result"
    }
   ],
   "source": [
    "syn_frame.duplicated().sum()"
   ]
  },
  {
   "cell_type": "code",
   "execution_count": 12,
   "id": "ce4c157e",
   "metadata": {},
   "outputs": [
    {
     "data": {
      "text/plain": [
       "0"
      ]
     },
     "execution_count": 12,
     "metadata": {},
     "output_type": "execute_result"
    }
   ],
   "source": [
    "syn_frame = syn_frame.drop_duplicates()\n",
    "syn_frame.duplicated().sum()\n",
    "    "
   ]
  },
  {
   "cell_type": "code",
   "execution_count": 13,
   "id": "f5b2ffb8",
   "metadata": {},
   "outputs": [
    {
     "data": {
      "text/plain": [
       "(array([14., 14., 20., 18., 21.,  6.,  8.,  5.,  4.,  5.]),\n",
       " array([ 17.7 ,  32.03,  46.36,  60.69,  75.02,  89.35, 103.68, 118.01,\n",
       "        132.34, 146.67, 161.  ]),\n",
       " <BarContainer object of 10 artists>)"
      ]
     },
     "execution_count": 13,
     "metadata": {},
     "output_type": "execute_result"
    },
    {
     "data": {
      "image/png": "[encoded data removed]",
      "text/plain": [
       "<Figure size 640x480 with 1 Axes>"
      ]
     },
     "metadata": {},
     "output_type": "display_data"
    }
   ],
   "source": [
    "plt.hist(syn_frame['Rainfall in June'],bins = 10)"
   ]
  },
  {
   "cell_type": "markdown",
   "id": "976c85de",
   "metadata": {},
   "source": [
    "From histogram we can infer that data is right skewed"
   ]
  },
  {
   "cell_type": "code",
   "execution_count": 23,
   "id": "3fe9b78c",
   "metadata": {},
   "outputs": [],
   "source": [
    "scaler = StandardScaler()\n"
   ]
  },
  {
   "cell_type": "code",
   "execution_count": 40,
   "id": "f8bc4669",
   "metadata": {},
   "outputs": [
    {
     "name": "stdout",
     "output_type": "stream",
     "text": [
      "Range of X is: -1.7170544144170172,1.7170544144170172\n",
      "Range of Y is: -1.5610970386628225,2.5423416713642912\n"
     ]
    }
   ],
   "source": [
    "x1 = scaler.fit_transform(syn_frame[['YEAR']])\n",
    "y1 = scaler.fit_transform(syn_frame[['Rainfall in June']]) \n",
    "\n",
    "print(\"Range of X is: {min},{max}\".format(min=np.min(x1.flatten()), max=np.max(x1.flatten())))\n",
    "print(\"Range of Y is: {min},{max}\".format(min=np.min(y1.flatten()), max=np.max(y1.flatten())))"
   ]
  },
  {
   "cell_type": "code",
   "execution_count": 44,
   "id": "1ece8534",
   "metadata": {},
   "outputs": [
    {
     "name": "stdout",
     "output_type": "stream",
     "text": [
      "Range of X is: 0.0,1.0\n",
      "Range of Y is: 0.0,0.9999999999999999\n"
     ]
    }
   ],
   "source": [
    "mmscalar = MinMaxScaler();\n",
    "\n",
    "x2 = mmscalar.fit_transform(syn_frame[['YEAR']])\n",
    "y2 = mmscaler.fit_transform(syn_frame[['Rainfall in June']])\n",
    "\n",
    "\n",
    "print(\"Range of X is: {min},{max}\".format(min=np.min(x2.flatten()), max=np.max(x2.flatten())))\n",
    "print(\"Range of Y is: {min},{max}\".format(min=np.min(y2.flatten()), max=np.max(y2.flatten())))"
   ]
  },
  {
   "cell_type": "markdown",
   "id": "078ec6a0",
   "metadata": {},
   "source": [
    "80-20 SPLIT :-"
   ]
  },
  {
   "cell_type": "code",
   "execution_count": 46,
   "id": "63cdd884",
   "metadata": {},
   "outputs": [],
   "source": [
    "X_Train,X_test,Y_Train,Y_test = train_test_split(x2,y2,test_size=0.2,random_state=40) #splitting value into training and test sets"
   ]
  },
  {
   "cell_type": "code",
   "execution_count": 48,
   "id": "a96293f6",
   "metadata": {},
   "outputs": [],
   "source": [
    "model = LinearRegression().fit(X_Train,Y_Train)\n",
    "y_pred = model.predict(X_test)"
   ]
  },
  {
   "cell_type": "code",
   "execution_count": 51,
   "id": "da321260",
   "metadata": {},
   "outputs": [
    {
     "data": {
      "image/png": "[encoded data removed]",
      "text/plain": [
       "<Figure size 640x480 with 1 Axes>"
      ]
     },
     "metadata": {},
     "output_type": "display_data"
    }
   ],
   "source": [
    "plt.scatter(X_Train,Y_Train,color = 'red')\n",
    "plt.plot(X_Train,model.predict(X_Train), color = 'blue')\n",
    "plt.xlabel('x')\n",
    "plt.ylabel('y')\n",
    "plt.title('Linear Regression Model')\n",
    "plt.show()"
   ]
  },
  {
   "cell_type": "code",
   "execution_count": 55,
   "id": "4cb2c4d4",
   "metadata": {
    "scrolled": false
   },
   "outputs": [
    {
     "name": "stdout",
     "output_type": "stream",
     "text": [
      "mean squared error: 0.03366735291048604\n",
      "root squared error: 0.1834866559466547\n",
      "mean absolute error: 0.14168805879224322\n"
     ]
    }
   ],
   "source": [
    "mse = mean_squared_error(Y_test,y_pred)\n",
    "rmse = np.sqrt(mse)\n",
    "\n",
    "mae = mean_absolute_error(Y_test,y_pred)\n",
    "\n",
    "print('mean squared error: {mse1}'.format(mse1 = mse))\n",
    "print('root squared error: {rmse1}'.format(rmse1 = rmse))\n",
    "print('mean absolute error: {mae1}'.format(mae1 = mae))\n"
   ]
  },
  {
   "cell_type": "markdown",
   "id": "722c0f43",
   "metadata": {},
   "source": [
    "70-30 SPLIT :-"
   ]
  },
  {
   "cell_type": "code",
   "execution_count": 56,
   "id": "da706871",
   "metadata": {},
   "outputs": [],
   "source": [
    "X_Train,X_test,Y_Train,Y_test = train_test_split(x2,y2,test_size=0.3,random_state=40) #splitting value into training and test sets"
   ]
  },
  {
   "cell_type": "code",
   "execution_count": 57,
   "id": "7520f3dc",
   "metadata": {},
   "outputs": [],
   "source": [
    "model = LinearRegression().fit(X_Train,Y_Train)\n",
    "y_pred = model.predict(X_test)"
   ]
  },
  {
   "cell_type": "code",
   "execution_count": 58,
   "id": "f5a48ca5",
   "metadata": {},
   "outputs": [
    {
     "data": {
      "image/png": "[encoded data removed]",
      "text/plain": [
       "<Figure size 640x480 with 1 Axes>"
      ]
     },
     "metadata": {},
     "output_type": "display_data"
    }
   ],
   "source": [
    "plt.scatter(X_Train,Y_Train,color = 'red')\n",
    "plt.plot(X_Train,model.predict(X_Train), color = 'blue')\n",
    "plt.xlabel('x')\n",
    "plt.ylabel('y')\n",
    "plt.title('Linear Regression Model')\n",
    "plt.show()"
   ]
  },
  {
   "cell_type": "code",
   "execution_count": 59,
   "id": "80026c1a",
   "metadata": {},
   "outputs": [
    {
     "name": "stdout",
     "output_type": "stream",
     "text": [
      "mean squared error: 0.04536703785454591\n",
      "root squared error: 0.2129953939749541\n",
      "mean absolute error: 0.16881924459957492\n"
     ]
    }
   ],
   "source": [
    "mse = mean_squared_error(Y_test,y_pred)\n",
    "rmse = np.sqrt(mse)\n",
    "\n",
    "mae = mean_absolute_error(Y_test,y_pred)\n",
    "\n",
    "print('mean squared error: {mse1}'.format(mse1 = mse))\n",
    "print('root squared error: {rmse1}'.format(rmse1 = rmse))\n",
    "print('mean absolute error: {mae1}'.format(mae1 = mae))\n"
   ]
  }
 ],
 "metadata": {
  "kernelspec": {
   "display_name": "Python 3 (ipykernel)",
   "language": "python",
   "name": "python3"
  },
  "language_info": {
   "codemirror_mode": {
    "name": "ipython",
    "version": 3
   },
   "file_extension": ".py",
   "mimetype": "text/x-python",
   "name": "python",
   "nbconvert_exporter": "python",
   "pygments_lexer": "ipython3",
   "version": "3.10.9"
  }
 },
 "nbformat": 4,
 "nbformat_minor": 5
}
