{
 "cells": [
  {
   "cell_type": "code",
   "execution_count": 12,
   "id": "eba32d44",
   "metadata": {},
   "outputs": [],
   "source": [
    "import pandas as pd\n",
    "import numpy as np\n",
    "from sklearn.model_selection import train_test_split\n",
    "from sklearn.preprocessing import StandardScaler\n",
    "import seaborn as sns\n",
    "from sklearn.metrics import classification_report\n",
    "from sklearn.metrics import r2_score,mean_squared_error\n",
    "import matplotlib.pyplot as plt"
   ]
  },
  {
   "cell_type": "code",
   "execution_count": 13,
   "id": "aa877905",
   "metadata": {
    "scrolled": true
   },
   "outputs": [],
   "source": [
    "syn_data=pd.read_csv('C:/Users/SHUBHAM/Desktop/synthetic_data.csv')  #reading a csv file\n",
    "\n",
    "syn_frame=pd.DataFrame(syn_data)    # generating a dataframe\n",
    "\n"
   ]
  },
  {
   "cell_type": "code",
   "execution_count": 14,
   "id": "da0b7820",
   "metadata": {},
   "outputs": [],
   "source": [
    "Y=syn_data['Outcome']              # defining features and target values\n",
    "X=syn_data.drop('Outcome',axis=1)\n",
    "\n",
    "#splitting dataset to training and test data...\n",
    "X_Train,X_test,Y_Train,Y_test = train_test_split(X,Y,test_size=0.2,random_state=100)\n",
    "\n",
    "#scaling input matrix\n",
    "scaler = StandardScaler()\n",
    "X_Train = scaler.fit_transform(X_Train)\n",
    "X_test = scaler.transform(X_test)"
   ]
  },
  {
   "cell_type": "code",
   "execution_count": 15,
   "id": "8f0cba1a",
   "metadata": {},
   "outputs": [],
   "source": [
    "# defining regression parameters....\n",
    "l_rate = 0.01                         #learning rate\n",
    "batch_size= 50                       #batch size\n",
    "iteration = 1000                     #No. of iterations\n",
    "weight = np.zeros(X_Train.shape[1])  #weights\n",
    "b=0                                  #bias`\n",
    "cost = np.zeros(iteration)           #intializing cost function\n",
    "samples , features = X_Train.shape\n",
    "for i in range(iteration):\n",
    "    \n",
    "    index = np.random.permutation(samples)\n",
    "    \n",
    "    #generating random samples from training data of a random batchsize\n",
    "    for j in range(0,samples,batch_size):\n",
    "        X_batch = X_Train[j:j + batch_size]             \n",
    "        Y_batch = Y_Train[j:j + batch_size]\n",
    "        y_pred = np.dot(X_batch,weight) + b\n",
    "        w_gradient = 2*np.dot(X_batch.T,y_pred - Y_batch)/len(Y_batch)\n",
    "        b_gradient = np.mean(y_pred - Y_batch)\n",
    "        weight -= l_rate*w_gradient\n",
    "        b -= l_rate*b_gradient\n",
    "    \n",
    "    cost[i] = np.mean((y_pred - Y_batch)**2)   # updating cost function per iteration\n",
    "      \n",
    "        \n",
    "        \n",
    "    \n",
    "\n",
    "    \n",
    "    \n",
    "    \n"
   ]
  },
  {
   "cell_type": "code",
   "execution_count": 16,
   "id": "a7ac6be7",
   "metadata": {
    "scrolled": false
   },
   "outputs": [
    {
     "name": "stdout",
     "output_type": "stream",
     "text": [
      "weight :  [ 0.05142494  0.12085839 -0.04079947 -0.0322728   0.02884628  0.10548724\n",
      "  0.03097932  0.02128159]\n"
     ]
    }
   ],
   "source": [
    "print(\"weight : \",weight)"
   ]
  },
  {
   "cell_type": "code",
   "execution_count": 17,
   "id": "c6af333a",
   "metadata": {
    "scrolled": false
   },
   "outputs": [
    {
     "name": "stdout",
     "output_type": "stream",
     "text": [
      "bias :  0.3623994488808076\n"
     ]
    }
   ],
   "source": [
    "print(\"bias : \",b)"
   ]
  },
  {
   "cell_type": "code",
   "execution_count": 18,
   "id": "c87c95fc",
   "metadata": {},
   "outputs": [],
   "source": [
    "y_pred_test = np.dot(X_test , weight) + b # predicting test datasets"
   ]
  },
  {
   "cell_type": "code",
   "execution_count": 19,
   "id": "4d156547",
   "metadata": {},
   "outputs": [
    {
     "name": "stdout",
     "output_type": "stream",
     "text": [
      "The r2_score obtained is : 17.99 %\n",
      "mean squared error :  0.19116328697208462\n"
     ]
    }
   ],
   "source": [
    "r2_scr = r2_score(Y_test,y_pred_test)        #calculating r2_score\n",
    "print('The r2_score obtained is :',round(r2_scr * 100 ,2),'%')\n",
    "\n",
    "mse = mean_squared_error(Y_test,y_pred_test)\n",
    "\n",
    "print(\"mean squared error : \",mse)"
   ]
  },
  {
   "cell_type": "code",
   "execution_count": 22,
   "id": "5e546d80",
   "metadata": {
    "scrolled": true
   },
   "outputs": [
    {
     "data": {
      "text/plain": [
       "Text(0, 0.5, 'Cost Function')"
      ]
     },
     "execution_count": 22,
     "metadata": {},
     "output_type": "execute_result"
    },
    {
     "data": {
      "image/png": "[encoded data removed]",
      "text/plain": [
       "<Figure size 640x480 with 1 Axes>"
      ]
     },
     "metadata": {},
     "output_type": "display_data"
    }
   ],
   "source": [
    "plt.plot(cost)\n",
    "plt.title(\"stochastic\")# plotting cost function Vs Iteration\n",
    "plt.xlabel(\"No. of iterations\")\n",
    "plt.ylabel(\"Cost Function\")"
   ]
  }
 ],
 "metadata": {
  "kernelspec": {
   "display_name": "Python 3 (ipykernel)",
   "language": "python",
   "name": "python3"
  },
  "language_info": {
   "codemirror_mode": {
    "name": "ipython",
    "version": 3
   },
   "file_extension": ".py",
   "mimetype": "text/x-python",
   "name": "python",
   "nbconvert_exporter": "python",
   "pygments_lexer": "ipython3",
   "version": "3.10.9"
  }
 },
 "nbformat": 4,
 "nbformat_minor": 5
}
