{
 "cells": [
  {
   "cell_type": "code",
   "execution_count": 7,
   "id": "d128529d",
   "metadata": {},
   "outputs": [],
   "source": [
    "import pandas as pd\n",
    "import numpy as np\n",
    "from sklearn.model_selection import train_test_split\n",
    "from sklearn.preprocessing import StandardScaler  \n",
    "import seaborn as sns\n",
    "from sklearn.metrics import classification_report\n",
    "from sklearn.metrics import r2_score\n",
    "import matplotlib.pyplot as plt"
   ]
  },
  {
   "cell_type": "code",
   "execution_count": 8,
   "id": "89385bad",
   "metadata": {},
   "outputs": [],
   "source": [
    "syn_data=pd.read_csv('C:/Users/SHUBHAM/Desktop/synthetic_data.csv')  #reading the file from a folder\n",
    "\n",
    "syn_frame=pd.DataFrame(syn_data) #creating a dataframe\n"
   ]
  },
  {
   "cell_type": "code",
   "execution_count": 9,
   "id": "debbbdc9",
   "metadata": {
    "scrolled": true
   },
   "outputs": [],
   "source": [
    "features = [\"Pregnancies\",\"Glucose\",\"BloodPressure\",\"SkinThickness\",\"Insulin\",\"BMI\",\"DiabetesPedigreeFunction\",\"Age\"]\n",
    "\n",
    "X= syn_frame.drop(\"Outcome\",axis=1)  # Extracting features from dataset\n",
    "Y= syn_frame[\"Outcome\"]\n",
    "\n",
    "#splitting dataset\n",
    "X_Train,X_test,Y_Train,Y_test = train_test_split(X,Y,test_size=0.2,random_state=100)\n",
    "\n",
    "mean = X_Train.mean()           #setting mean and standard deviation of training model\n",
    "sd = X_Train.std()\n",
    "\n",
    "X_Train = (X_Train - mean)/sd   #generalizing the training dataset\n",
    "\n",
    "X_Train[\"bias\"] = 1             #inserting bias term in dataset\n",
    "X_Train = X_Train[[\"bias\"] + features]\n",
    "\n",
    " # defining class label\n",
    "C1 = [1,0]  # -> for Outcome = 1\n",
    "C2 = [0,1]  # -> for Outcome = 0\n",
    "\n",
    "t =[]\n",
    "for j in Y_Train:    # constructing a target matrix\n",
    "    if(j==1):\n",
    "        t.append(C1)\n",
    "    else:\n",
    "        t.append(C2)"
   ]
  },
  {
   "cell_type": "code",
   "execution_count": 10,
   "id": "ea9680ea",
   "metadata": {},
   "outputs": [],
   "source": [
    "W = np.linalg.inv(X_Train.T@X_Train)@X_Train.T@t  #Calculated weight matrix for each class"
   ]
  },
  {
   "cell_type": "code",
   "execution_count": 11,
   "id": "8a3572cc",
   "metadata": {},
   "outputs": [],
   "source": [
    "X_test = (X_test - mean)/sd          #generalizing test data\n",
    "\n",
    "X_test[\"bias\"] = 1\n",
    "\n",
    "X_test = X_test[[\"bias\"] + features]   \n",
    "y_pred_test = np.dot(X_test,W)       #predicting test data for each class"
   ]
  },
  {
   "cell_type": "code",
   "execution_count": 12,
   "id": "b8187367",
   "metadata": {},
   "outputs": [],
   "source": [
    "y_pred = []           #classifying the generated test result to respective classes C1 and C2 as defined above...\n",
    "for j in y_pred_test:\n",
    "    if(j[:1] < j[1:2]):\n",
    "        y_pred.append(0)\n",
    "    else:\n",
    "        y_pred.append(1)\n",
    "    \n"
   ]
  },
  {
   "cell_type": "code",
   "execution_count": 15,
   "id": "4a9f0a98",
   "metadata": {
    "scrolled": true
   },
   "outputs": [
    {
     "name": "stdout",
     "output_type": "stream",
     "text": [
      "                  precision    recall  f1-score   support\n",
      "\n",
      "without diabetes       0.74      0.84      0.79        63\n",
      "   with diabetes       0.64      0.49      0.55        37\n",
      "\n",
      "        accuracy                           0.71       100\n",
      "       macro avg       0.69      0.66      0.67       100\n",
      "    weighted avg       0.70      0.71      0.70       100\n",
      "\n"
     ]
    }
   ],
   "source": [
    "class_names = ['without diabetes', 'with diabetes']   #calculating classification accuracy\n",
    "print(classification_report(Y_test, y_pred, target_names=class_names))"
   ]
  },
  {
   "cell_type": "code",
   "execution_count": 14,
   "id": "8714384d",
   "metadata": {},
   "outputs": [
    {
     "data": {
      "text/html": [
       "<div>\n",
       "<style scoped>\n",
       "    .dataframe tbody tr th:only-of-type {\n",
       "        vertical-align: middle;\n",
       "    }\n",
       "\n",
       "    .dataframe tbody tr th {\n",
       "        vertical-align: top;\n",
       "    }\n",
       "\n",
       "    .dataframe thead th {\n",
       "        text-align: right;\n",
       "    }\n",
       "</style>\n",
       "<table border=\"1\" class=\"dataframe\">\n",
       "  <thead>\n",
       "    <tr style=\"text-align: right;\">\n",
       "      <th></th>\n",
       "      <th>0</th>\n",
       "      <th>1</th>\n",
       "    </tr>\n",
       "  </thead>\n",
       "  <tbody>\n",
       "    <tr>\n",
       "      <th>0</th>\n",
       "      <td>0.362500</td>\n",
       "      <td>0.637500</td>\n",
       "    </tr>\n",
       "    <tr>\n",
       "      <th>1</th>\n",
       "      <td>0.053725</td>\n",
       "      <td>-0.053725</td>\n",
       "    </tr>\n",
       "    <tr>\n",
       "      <th>2</th>\n",
       "      <td>0.121230</td>\n",
       "      <td>-0.121230</td>\n",
       "    </tr>\n",
       "    <tr>\n",
       "      <th>3</th>\n",
       "      <td>-0.041295</td>\n",
       "      <td>0.041295</td>\n",
       "    </tr>\n",
       "    <tr>\n",
       "      <th>4</th>\n",
       "      <td>-0.032199</td>\n",
       "      <td>0.032199</td>\n",
       "    </tr>\n",
       "    <tr>\n",
       "      <th>5</th>\n",
       "      <td>0.029223</td>\n",
       "      <td>-0.029223</td>\n",
       "    </tr>\n",
       "    <tr>\n",
       "      <th>6</th>\n",
       "      <td>0.106028</td>\n",
       "      <td>-0.106028</td>\n",
       "    </tr>\n",
       "    <tr>\n",
       "      <th>7</th>\n",
       "      <td>0.030267</td>\n",
       "      <td>-0.030267</td>\n",
       "    </tr>\n",
       "    <tr>\n",
       "      <th>8</th>\n",
       "      <td>0.022338</td>\n",
       "      <td>-0.022338</td>\n",
       "    </tr>\n",
       "  </tbody>\n",
       "</table>\n",
       "</div>"
      ],
      "text/plain": [
       "          0         1\n",
       "0  0.362500  0.637500\n",
       "1  0.053725 -0.053725\n",
       "2  0.121230 -0.121230\n",
       "3 -0.041295  0.041295\n",
       "4 -0.032199  0.032199\n",
       "5  0.029223 -0.029223\n",
       "6  0.106028 -0.106028\n",
       "7  0.030267 -0.030267\n",
       "8  0.022338 -0.022338"
      ]
     },
     "execution_count": 14,
     "metadata": {},
     "output_type": "execute_result"
    }
   ],
   "source": [
    "W"
   ]
  },
  {
   "cell_type": "code",
   "execution_count": null,
   "id": "4fffa46b",
   "metadata": {},
   "outputs": [],
   "source": []
  }
 ],
 "metadata": {
  "kernelspec": {
   "display_name": "Python 3 (ipykernel)",
   "language": "python",
   "name": "python3"
  },
  "language_info": {
   "codemirror_mode": {
    "name": "ipython",
    "version": 3
   },
   "file_extension": ".py",
   "mimetype": "text/x-python",
   "name": "python",
   "nbconvert_exporter": "python",
   "pygments_lexer": "ipython3",
   "version": "3.10.9"
  }
 },
 "nbformat": 4,
 "nbformat_minor": 5
}
